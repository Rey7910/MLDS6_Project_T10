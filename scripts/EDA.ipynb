{
 "cells": [
  {
   "cell_type": "markdown",
   "metadata": {},
   "source": [
    "# Analisis exploratorio de datos\n",
    "En primer lugar, es fundamental comprender cómo se distribuyen y organizan los datos. Por ello, hagamos una primera aproximación:\n",
    "El dataset presenta un total de 5856 archivos correspondientes a imágenes de radiografías de rayos x de pecho.\n",
    "\n",
    "Así mismo, las imágenes se encuentran distribuidas de la siguiente forma.\n",
    "\n",
    "\n",
    "\n",
    "1.   Directorio de Entrenamiento: 5216 imágenes\n",
    "\n",
    "\n",
    "*   1341 imágenes clasificadas con la etiqueta NORMAL\n",
    "*   3875 imágenes clasificadas con la etiqueta PNEUMONIA\n",
    "\n",
    "\n",
    "2.   Directorio de Prueba: 624 imágenes\n",
    "\n",
    "\n",
    "*   234 imágenes clasificadas con la etiqueta NORMAL\n",
    "*   390 imágenes clasificadas con la etiqueta PNEUMONIA\n",
    "\n",
    "3.  Directorio de validación: 16 imágenes\n",
    "\n",
    "\n",
    "*   8 imágenes clasificadas con la etiqueta NORMAL\n",
    "*   8 imágenes clasificadas con la etiqueta PNEUOMINIA\n",
    "\n",
    "\n",
    "Las imágenes se encuentran almacenadas en formato JPG para un total de 1.24 GB de memoria en almacenamiento asignado a la totalidad del conjunto de datos."
   ]
  },
  {
   "cell_type": "markdown",
   "metadata": {},
   "source": [
    "\n",
    "## Calidad de los datos\n",
    "Afortunadamente, la calidad de los datos se mantiene intacta y presenta las siguientes características:\n",
    "1. El tamaño del dataset es adecuado para el análisis y entrenamiento de modelos de aprendizaje automático. Una cantidad suficiente de imágenes permite crear modelos robustos y capaces de identificar patrones de manera eficiente.\n",
    "2. No hay datos faltantes ni imágenes vacías o de mala calidad. El dataset ha sido previamente procesado y organizado, lo que asegura que todas las imágenes estén en buen estado y listas para su análisis.\n",
    "3. No se detectaron documentos ilegibles ni problemas de codificación. Debido a que el dataset proviene de una fuente confiable en Kaggle, ha pasado por un proceso de limpieza y validación, garantizando la correcta codificación de todos los archivos.\n",
    "4. No se observa ningún sesgo evidente en el dataset. No obstante, es importante aclarar que los conjuntos de test y validacion estan mal distribuidos, por lo cual, se realizara el balanceo mas adelante.\n",
    "4. No existe mezcla de formatos. Todas las imágenes están uniformemente en formato JPEG, lo cual facilita su manejo y procesamiento. Este tipo de consistencia es típica en datasets curados como los que se encuentran en Kaggle, donde ya se ha asegurado que los datos sean uniformes y listos para ser utilizados en proyectos de aprendizaje automático o análisis de imágenes.\n"
   ]
  },
  {
   "cell_type": "markdown",
   "metadata": {},
   "source": [
    "# Análisis de variables y etiquetas\n",
    "\n",
    "## 1. Variable objetivo\n",
    "\n",
    "El conjunto de datos cuenta con una variable objetivo categórica que se utiliza para la clasificación de imágenes de rayos X. Esta variable objetivo puede tomar tres valores distintos: **NORMAL** (sin neumonía), **VIRUS** (neumonía viral) y **BACTERIA** (neumonía bacteriana). Las categorías definen la tarea principal de clasificación, permitiendo la identificación de la condición del paciente a partir de las imágenes médicas.\n",
    "\n",
    "## 2. Relación entre variables\n",
    "\n",
    "Dado que el problema de clasificación implica una variable categórica (NORMAL, VIRUS, BACTERIA) y no se cuenta con variables continuas, no es posible aplicar un análisis de correlación tradicional, como el coeficiente de Pearson, que evalúa relaciones lineales entre variables continuas. Sin embargo, en el contexto de la clasificación de imágenes, las relaciones relevantes se extraen a partir de características visuales, tales como texturas, patrones y detalles. Además, es evidente la relación existente entre las categorías VIRUS y BACTERIA, ya que ambas representan un estado de neumonía en una persona y, por lo tanto, pueden compartir patrones y detalles visuales similares.\n",
    "\n",
    "## 3. Distribución de etiquetas y balance de datos\n",
    "\n",
    "El dataset ha sido procesado y organizado en plataformas de confianza como Kaggle, lo que sugiere un balance adecuado entre las clases en términos generales. Sin embargo, para un análisis preciso, es fundamental realizar una verificación programática que permita confirmar la distribución de las imágenes entre las clases **NORMAL**, **VIRUS** y **BACTERIA**. En algunos casos, los datasets relacionados con la salud pueden presentar un desbalance de clases (como es el caso de este dataset), donde una categoría puede tener una cantidad significativamente mayor de imágenes que las otras. Este tipo de desbalance podría requerir la implementación de técnicas de balanceo de datos, como **sobremuestreo** (aumentar la cantidad de muestras en las clases menos representadas) o **submuestreo** (reducir las muestras de las clases más representadas), para mejorar la precisión y el rendimiento de los modelos de clasificación.\n",
    "\n",
    "## 4. Variables adicionales\n",
    "\n",
    "El conjunto de datos está compuesto únicamente por imágenes organizadas en directorios de acuerdo con su categoría, sin variables adicionales explícitas. Sin embargo, para un análisis más completo y enriquecido, es posible extraer características adicionales de las imágenes, como texturas, patrones y atributos específicos, utilizando técnicas de procesamiento de imágenes. Estas características pueden ser extraídas mediante métodos tradicionales o a través de modelos de aprendizaje profundo, como redes neuronales convolucionales (CNN), que aprenden de manera automática características relevantes para la tarea de clasificación. Esto puede ayudar a mejorar la capacidad predictiva del modelo al proporcionarle información más detallada y relevante sobre cada imagen."
   ]
  }
 ],
 "metadata": {
  "language_info": {
   "name": "python"
  }
 },
 "nbformat": 4,
 "nbformat_minor": 2
}
