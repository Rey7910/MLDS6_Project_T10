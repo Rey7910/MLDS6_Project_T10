{
 "cells": [
  {
   "cell_type": "markdown",
   "metadata": {},
   "source": [
    "# Modelamiento"
   ]
  },
  {
   "cell_type": "code",
   "execution_count": null,
   "metadata": {},
   "outputs": [],
   "source": [
    "import sys\n",
    "import os\n",
    "\n",
    "sys.path.append(os.path.abspath(os.path.join(os.getcwd(), '..')))\n",
    "\n",
    "from src.MLDS6_Assets.preprocessing import countFilesinFolder\n",
    "from src.MLDS6_Assets.visualization import plotDataPartition\n",
    "from src.MLDS6_Assets.models import trainTestSplitImages"
   ]
  },
  {
   "cell_type": "markdown",
   "metadata": {},
   "source": [
    "## Partición de datos"
   ]
  },
  {
   "cell_type": "markdown",
   "metadata": {},
   "source": [
    "Para la partición de datos, vamos a tomar de base los datos unidos y balanceados en un único dataset. Para realizar la partición, usaremos la función train test split de sklearn y mantener el esquema de carpetas"
   ]
  },
  {
   "cell_type": "code",
   "execution_count": null,
   "metadata": {},
   "outputs": [],
   "source": []
  },
  {
   "cell_type": "markdown",
   "metadata": {},
   "source": [
    "## Selección y diseño de modelos"
   ]
  },
  {
   "cell_type": "markdown",
   "metadata": {},
   "source": [
    "Para abordar el problema de clasificación de imágenes en el diagnóstico de neumonía a partir de radiografías, hemos seleccionado los modelos VGG16 y EfficientNetB0, ambos disponibles en TensorFlow. Esta elección se justifica debido a que ambos modelos son redes neuronales convolucionales bien probadas en tareas de reconocimiento de imágenes y permiten capturar características visuales esenciales en radiografías. VGG16, con su arquitectura profunda y secuencial, es eficaz en detectar patrones sutiles y texturas asociadas a los signos de neumonía, como opacidades pulmonares; mientras que EfficientNetB0 se distingue por su capacidad de procesamiento optimizada y eficiente, lo que es ideal para implementaciones en tiempo real sin comprometer precisión. Además, se implementará transfer learning utilizando modelos preentrenados, lo que permitirá aprovechar características previamente aprendidas en grandes conjuntos de datos, acelerando el entrenamiento y mejorando la generalización en nuestro conjunto de datos específico. Al combinar ambos modelos, podemos lograr un balance entre precisión y velocidad, mejorando la fiabilidad diagnóstica. Además, ambos modelos se pueden adaptar añadiendo capas densas y técnicas como dropout o normalización para ajustarse mejor a las necesidades específicas del conjunto de datos, maximizando así el rendimiento en la tarea de clasificación.\n",
    "\n",
    "Adicionalmente, las imagenes deben redimensionarse para tener una dimensión esprcifica para el modelo"
   ]
  },
  {
   "cell_type": "markdown",
   "metadata": {},
   "source": [
    "### Estandarizacion de los datos\n",
    "Teniendo en cuenta que los datos se encuentran en un tamaño no apto para el entrenamiento se busca estandarizarlo para que todo funcione bien"
   ]
  },
  {
   "cell_type": "code",
   "execution_count": null,
   "metadata": {},
   "outputs": [],
   "source": [
    "# Ruta a la carpeta con las imágenes\n",
    "folder_path = \"MLDS2_Project_Data_Split/test/virusPneumonia\"\n",
    "\n",
    "# Inicializar variables para el cálculo del promedio\n",
    "aspect_ratios = []\n",
    "\n",
    "# Iterar sobre cada archivo en la carpeta\n",
    "for filename in os.listdir(folder_path):\n",
    "    image_path = os.path.join(folder_path, filename)\n",
    "    try:\n",
    "        with Image.open(image_path) as img:\n",
    "            width, height = img.size\n",
    "            aspect_ratio = width / height\n",
    "            aspect_ratios.append(aspect_ratio)\n",
    "    except Exception as e:\n",
    "        print(f\"Error al procesar {filename}: {e}\")\n",
    "\n",
    "# Calcular el promedio de la relación de aspecto\n",
    "if aspect_ratios:\n",
    "    average_aspect_ratio = sum(aspect_ratios) / len(aspect_ratios)\n",
    "    print(f\"Promedio de la relación de aspecto: {average_aspect_ratio}\")\n",
    "else:\n",
    "    print(\"No se encontraron imágenes para calcular la relación de aspecto.\")"
   ]
  }
 ],
 "metadata": {
  "language_info": {
   "name": "python"
  }
 },
 "nbformat": 4,
 "nbformat_minor": 2
}
