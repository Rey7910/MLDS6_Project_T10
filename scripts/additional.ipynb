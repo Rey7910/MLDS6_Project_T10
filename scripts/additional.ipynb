{
 "cells": [
  {
   "cell_type": "markdown",
   "metadata": {},
   "source": [
    "# Elementos Adicionales"
   ]
  },
  {
   "cell_type": "markdown",
   "metadata": {},
   "source": [
    "Este notebook the scripts incluye recursos adicionale para el acceso y manejo de los datos. Es importante tener en cuenta que solo es necesario ejecutarlos en caso de estar configurando el proyecto o similares. (**NO LOS USE SI NO SON ESTRICTAMENTE NECESARIOS**)"
   ]
  },
  {
   "cell_type": "markdown",
   "metadata": {},
   "source": [
    "### 1. Credenciales para DVC"
   ]
  },
  {
   "cell_type": "markdown",
   "metadata": {},
   "source": [
    "El siguiente script le permite conectar las credenciales de su repositorio remoto a DVC. Esta fase se hace una única vez en el proyecto"
   ]
  },
  {
   "cell_type": "markdown",
   "metadata": {},
   "source": [
    "Se cargan las credenciales del archivo `credentials.json`"
   ]
  },
  {
   "cell_type": "code",
   "execution_count": 1,
   "metadata": {},
   "outputs": [
    {
     "name": "stdout",
     "output_type": "stream",
     "text": [
      "Setting 'storage' as a default remote.\n"
     ]
    }
   ],
   "source": [
    "import sys\n",
    "import os\n",
    "\n",
    "sys.path.append(os.path.abspath(os.path.join(os.getcwd(), '..')))\n",
    "\n",
    "from src.MLDS6_Assets.database import loadData\n",
    "\n",
    "driveID = \"gdrive://\"+loadData('../driveID.txt')\n",
    "\n",
    "!dvc remote add -d storage {driveID}\n",
    "!dvc remote modify storage gdrive_use_service_account true\n",
    "!dvc remote modify storage gdrive_service_account_json_file_path \"../credentials.json\""
   ]
  }
 ],
 "metadata": {
  "kernelspec": {
   "display_name": "env",
   "language": "python",
   "name": "python3"
  },
  "language_info": {
   "codemirror_mode": {
    "name": "ipython",
    "version": 3
   },
   "file_extension": ".py",
   "mimetype": "text/x-python",
   "name": "python",
   "nbconvert_exporter": "python",
   "pygments_lexer": "ipython3",
   "version": "3.12.5"
  }
 },
 "nbformat": 4,
 "nbformat_minor": 2
}
