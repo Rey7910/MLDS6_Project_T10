{
 "cells": [
  {
   "cell_type": "markdown",
   "metadata": {},
   "source": [
    "# Elementos Adicionales"
   ]
  },
  {
   "cell_type": "markdown",
   "metadata": {},
   "source": [
    "Este notebook the scripts incluye recursos adicionale para el acceso y manejo de los datos. Es importante tener en cuenta que solo es necesario ejecutarlos en caso de estar configurando el proyecto o similares. (**NO LOS USE SI NO SON ESTRICTAMENTE NECESARIOS**)"
   ]
  },
  {
   "cell_type": "markdown",
   "metadata": {},
   "source": [
    "### 1. Credenciales para DVC"
   ]
  },
  {
   "cell_type": "markdown",
   "metadata": {},
   "source": [
    "El siguiente script le permite conectar las credenciales de su repositorio remoto a DVC. Esta fase se hace una única vez en el proyecto"
   ]
  },
  {
   "cell_type": "code",
   "execution_count": null,
   "metadata": {},
   "outputs": [],
   "source": [
    "import sys\n",
    "import os\n",
    "\n",
    "sys.path.append(os.path.abspath(os.path.join(os.getcwd(), '..')))\n",
    "\n",
    "from src.MLDS6_Assets.database import loadCredentials\n",
    "\n",
    "loadCredentials(\"../credentials.json\")"
   ]
  }
 ],
 "metadata": {
  "language_info": {
   "name": "python"
  }
 },
 "nbformat": 4,
 "nbformat_minor": 2
}
