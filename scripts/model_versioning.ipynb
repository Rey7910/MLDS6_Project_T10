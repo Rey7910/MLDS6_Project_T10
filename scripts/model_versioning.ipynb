{
 "cells": [
  {
   "cell_type": "markdown",
   "metadata": {},
   "source": [
    "# Versionamiento de modelos"
   ]
  },
  {
   "cell_type": "markdown",
   "metadata": {},
   "source": [
    "Los modelos probados y entrenados fueron diseñados y actualizados"
   ]
  },
  {
   "cell_type": "code",
   "execution_count": 1,
   "metadata": {},
   "outputs": [],
   "source": [
    "from tensorflow.keras.models import load_model\n",
    "import mlflow\n",
    "import mlflow.keras\n",
    "from mlflow.tracking import MlflowClient"
   ]
  },
  {
   "cell_type": "code",
   "execution_count": 2,
   "metadata": {},
   "outputs": [],
   "source": [
    "modelEFNet1 = 'models/modelEfficientNet1.keras'\n",
    "modelEFNet2 = 'models/modelEfficientNet2.keras'\n",
    "modelVGG161 = 'models/modelVGG161.keras'\n",
    "modelVGG162 = 'models/modelVGG162.keras'\n",
    "finalModel = 'models/finalModel.keras'"
   ]
  },
  {
   "cell_type": "code",
   "execution_count": 11,
   "metadata": {},
   "outputs": [],
   "source": [
    "def register_model(path, model_name):\n",
    "    model = load_model(path)\n",
    "\n",
    "    print(\"Model information: \",model)\n",
    "    mlflow.set_tracking_uri(\"http://127.0.0.1:5000/\")\n",
    "\n",
    "    model_params = {\n",
    "        \"num_layers\": len(model.layers),\n",
    "        \"loss_function\": str(model.loss),\n",
    "        \"metrics\": [str(metric) for metric in model.metrics],\n",
    "        \"optimizer_config\": model.optimizer.get_config(),\n",
    "        \"input_shape\": str(model.input_shape),\n",
    "        \"output_shape\": str(model.output_shape),\n",
    "        \"layer_configs\": [layer.get_config() for layer in model.layers],\n",
    "        \"layer_weights\": [layer.get_weights() for layer in model.layers]\n",
    "    }\n",
    "\n",
    "    # Registrar el modelo desde el archivo o directorio\n",
    "    with mlflow.start_run() as run:\n",
    "        # Guardar el modelo en MLflow como un artifact\n",
    "        modelo_uri = mlflow.keras.log_model(model, artifact_path=\"modelo_keras\")\n",
    "        \n",
    "        # Obtener la URI del modelo registrado\n",
    "        modelo_uri = f\"runs:/{mlflow.active_run().info.run_id}/modelo_keras\"\n",
    "\n",
    "        # Log params\n",
    "\n",
    "        mlflow.log_param(\"num_layers\", model_params[\"num_layers\"])\n",
    "        mlflow.log_param(\"loss_function\", model_params[\"loss_function\"])\n",
    "        mlflow.log_param(\"metrics\", model_params[\"metrics\"])\n",
    "        mlflow.log_param(\"optimizer_config\", model_params[\"optimizer_config\"])\n",
    "        mlflow.log_param(\"input_shape\", model_params[\"input_shape\"])\n",
    "        mlflow.log_param(\"num_layers\", model_params[\"num_layers\"])\n",
    "\n",
    "        with open(\"model_layer_configs.txt\", \"w\") as f:\n",
    "            f.write(str(model_params[\"layer_configs\"]))\n",
    "        mlflow.log_artifact(\"model_layer_configs.txt\")\n",
    "\n",
    "        with open(\"model_layer_weights.txt\", \"w\") as f:\n",
    "            f.write(str(model_params[\"layer_weights\"]))\n",
    "        mlflow.log_artifact(\"model_layer_weights.txt\")\n",
    "\n",
    "    # Usar el cliente para registrar el modelo\n",
    "    client = MlflowClient()\n",
    "\n",
    "    # Añadir el modelo al Modelo Registry\n",
    "    client.create_registered_model(model_name)\n",
    "\n",
    "    # Crear una nueva versión del modelo en el registro\n",
    "    client.create_model_version(\n",
    "        name=model_name,\n",
    "        source=modelo_uri,\n",
    "        run_id=run.info.run_id\n",
    "    )\n",
    "\n",
    "    print(f\"Modelo '{model_name}' registrado con éxito.\")"
   ]
  },
  {
   "cell_type": "code",
   "execution_count": 14,
   "metadata": {},
   "outputs": [
    {
     "name": "stderr",
     "output_type": "stream",
     "text": [
      "2024/12/19 16:13:05 WARNING mlflow.keras.save: You are saving a Keras model without specifying model signature.\n"
     ]
    },
    {
     "name": "stdout",
     "output_type": "stream",
     "text": [
      "Model information:  <Functional name=functional, built=True>\n"
     ]
    },
    {
     "name": "stderr",
     "output_type": "stream",
     "text": [
      "2024/12/19 16:13:16 WARNING mlflow.models.model: Model logged without a signature and input example. Please set `input_example` parameter when logging the model to auto infer the model signature.\n",
      "2024/12/19 16:13:16 INFO mlflow.store.model_registry.abstract_store: Waiting up to 300 seconds for model version to finish creation. Model name: Efficient Net 1, version 1\n"
     ]
    },
    {
     "name": "stdout",
     "output_type": "stream",
     "text": [
      "🏃 View run treasured-goose-409 at: http://127.0.0.1:5000/#/experiments/0/runs/2d59018a8ef249b5a4f4baf038dad6a8\n",
      "🧪 View experiment at: http://127.0.0.1:5000/#/experiments/0\n",
      "Modelo 'Efficient Net 1' registrado con éxito.\n"
     ]
    }
   ],
   "source": [
    "register_model(modelEFNet1, \"Efficient Net 1\")"
   ]
  },
  {
   "cell_type": "code",
   "execution_count": 15,
   "metadata": {},
   "outputs": [
    {
     "name": "stderr",
     "output_type": "stream",
     "text": [
      "C:\\Users\\Reyci\\AppData\\Local\\Packages\\PythonSoftwareFoundation.Python.3.11_qbz5n2kfra8p0\\LocalCache\\local-packages\\Python311\\site-packages\\keras\\src\\saving\\saving_lib.py:719: UserWarning: Skipping variable loading for optimizer 'rmsprop', because it has 16 variables whereas the saved optimizer has 2 variables. \n",
      "  saveable.load_own_variables(weights_store.get(inner_path))\n",
      "2024/12/19 16:13:24 WARNING mlflow.keras.save: You are saving a Keras model without specifying model signature.\n"
     ]
    },
    {
     "name": "stdout",
     "output_type": "stream",
     "text": [
      "Model information:  <Functional name=functional, built=True>\n"
     ]
    },
    {
     "name": "stderr",
     "output_type": "stream",
     "text": [
      "2024/12/19 16:13:34 WARNING mlflow.models.model: Model logged without a signature and input example. Please set `input_example` parameter when logging the model to auto infer the model signature.\n",
      "2024/12/19 16:13:35 INFO mlflow.store.model_registry.abstract_store: Waiting up to 300 seconds for model version to finish creation. Model name: Efficient Net 2, version 1\n"
     ]
    },
    {
     "name": "stdout",
     "output_type": "stream",
     "text": [
      "🏃 View run marvelous-sloth-830 at: http://127.0.0.1:5000/#/experiments/0/runs/4b4ddcf9b8c44d6db3954c240cfd1dc5\n",
      "🧪 View experiment at: http://127.0.0.1:5000/#/experiments/0\n",
      "Modelo 'Efficient Net 2' registrado con éxito.\n"
     ]
    }
   ],
   "source": [
    "register_model(modelEFNet2, \"Efficient Net 2\")"
   ]
  },
  {
   "cell_type": "code",
   "execution_count": 16,
   "metadata": {},
   "outputs": [
    {
     "name": "stderr",
     "output_type": "stream",
     "text": [
      "C:\\Users\\Reyci\\AppData\\Local\\Packages\\PythonSoftwareFoundation.Python.3.11_qbz5n2kfra8p0\\LocalCache\\local-packages\\Python311\\site-packages\\keras\\src\\saving\\saving_lib.py:719: UserWarning: Skipping variable loading for optimizer 'adam', because it has 22 variables whereas the saved optimizer has 2 variables. \n",
      "  saveable.load_own_variables(weights_store.get(inner_path))\n",
      "2024/12/19 16:13:38 WARNING mlflow.keras.save: You are saving a Keras model without specifying model signature.\n"
     ]
    },
    {
     "name": "stdout",
     "output_type": "stream",
     "text": [
      "Model information:  <Functional name=functional, built=True>\n"
     ]
    },
    {
     "name": "stderr",
     "output_type": "stream",
     "text": [
      "2024/12/19 16:13:48 WARNING mlflow.models.model: Model logged without a signature and input example. Please set `input_example` parameter when logging the model to auto infer the model signature.\n",
      "2024/12/19 16:13:48 INFO mlflow.store.model_registry.abstract_store: Waiting up to 300 seconds for model version to finish creation. Model name: VGG 16 1, version 1\n"
     ]
    },
    {
     "name": "stdout",
     "output_type": "stream",
     "text": [
      "🏃 View run angry-snipe-202 at: http://127.0.0.1:5000/#/experiments/0/runs/5adb0cb6fc17466f865413f50782dfa0\n",
      "🧪 View experiment at: http://127.0.0.1:5000/#/experiments/0\n",
      "Modelo 'VGG 16 1' registrado con éxito.\n"
     ]
    }
   ],
   "source": [
    "register_model(modelVGG161, \"VGG 16 1\")"
   ]
  },
  {
   "cell_type": "code",
   "execution_count": 17,
   "metadata": {},
   "outputs": [
    {
     "name": "stderr",
     "output_type": "stream",
     "text": [
      "2024/12/19 16:13:51 WARNING mlflow.keras.save: You are saving a Keras model without specifying model signature.\n"
     ]
    },
    {
     "name": "stdout",
     "output_type": "stream",
     "text": [
      "Model information:  <Functional name=functional, built=True>\n"
     ]
    },
    {
     "name": "stderr",
     "output_type": "stream",
     "text": [
      "2024/12/19 16:14:01 WARNING mlflow.models.model: Model logged without a signature and input example. Please set `input_example` parameter when logging the model to auto infer the model signature.\n",
      "2024/12/19 16:14:01 INFO mlflow.store.model_registry.abstract_store: Waiting up to 300 seconds for model version to finish creation. Model name: VGG 16 2, version 1\n"
     ]
    },
    {
     "name": "stdout",
     "output_type": "stream",
     "text": [
      "🏃 View run unruly-jay-405 at: http://127.0.0.1:5000/#/experiments/0/runs/75a9557c59564cf997ad80158ae111bd\n",
      "🧪 View experiment at: http://127.0.0.1:5000/#/experiments/0\n",
      "Modelo 'VGG 16 2' registrado con éxito.\n"
     ]
    }
   ],
   "source": [
    "register_model(modelVGG162, \"VGG 16 2\")"
   ]
  },
  {
   "cell_type": "code",
   "execution_count": 18,
   "metadata": {},
   "outputs": [
    {
     "name": "stderr",
     "output_type": "stream",
     "text": [
      "2024/12/19 16:14:03 WARNING mlflow.keras.save: You are saving a Keras model without specifying model signature.\n"
     ]
    },
    {
     "name": "stdout",
     "output_type": "stream",
     "text": [
      "Model information:  <Functional name=functional, built=True>\n"
     ]
    },
    {
     "name": "stderr",
     "output_type": "stream",
     "text": [
      "2024/12/19 16:14:12 WARNING mlflow.models.model: Model logged without a signature and input example. Please set `input_example` parameter when logging the model to auto infer the model signature.\n",
      "2024/12/19 16:14:13 INFO mlflow.store.model_registry.abstract_store: Waiting up to 300 seconds for model version to finish creation. Model name: Final model , version 1\n"
     ]
    },
    {
     "name": "stdout",
     "output_type": "stream",
     "text": [
      "🏃 View run unleashed-cow-519 at: http://127.0.0.1:5000/#/experiments/0/runs/0c70fa7a37234a0c9898de9443717052\n",
      "🧪 View experiment at: http://127.0.0.1:5000/#/experiments/0\n",
      "Modelo 'Final model ' registrado con éxito.\n"
     ]
    }
   ],
   "source": [
    "register_model(finalModel, \"Final model \")"
   ]
  }
 ],
 "metadata": {
  "kernelspec": {
   "display_name": "Python 3",
   "language": "python",
   "name": "python3"
  },
  "language_info": {
   "codemirror_mode": {
    "name": "ipython",
    "version": 3
   },
   "file_extension": ".py",
   "mimetype": "text/x-python",
   "name": "python",
   "nbconvert_exporter": "python",
   "pygments_lexer": "ipython3",
   "version": "3.11.9"
  }
 },
 "nbformat": 4,
 "nbformat_minor": 2
}
