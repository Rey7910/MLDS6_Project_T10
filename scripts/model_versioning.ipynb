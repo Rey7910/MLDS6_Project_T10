{
 "cells": [
  {
   "cell_type": "markdown",
   "metadata": {},
   "source": [
    "# Versionamiento de modelos"
   ]
  },
  {
   "cell_type": "markdown",
   "metadata": {},
   "source": [
    "Los modelos probados y entrenados fueron diseñados y actualizados"
   ]
  },
  {
   "cell_type": "code",
   "execution_count": 1,
   "metadata": {},
   "outputs": [],
   "source": [
    "from tensorflow.keras.models import load_model\n",
    "import mlflow\n",
    "import mlflow.keras\n",
    "from mlflow.tracking import MlflowClient"
   ]
  },
  {
   "cell_type": "code",
   "execution_count": 2,
   "metadata": {},
   "outputs": [],
   "source": [
    "modelEFNet1 = 'models/modelEfficientNet1.keras'\n",
    "modelEFNet2 = 'models/modelEfficientNet2.keras'\n",
    "modelVGG161 = 'models/modelVGG161.keras'\n",
    "modelVGG162 = 'models/modelVGG162.keras'\n",
    "finalModel = 'models/finalModel.keras'"
   ]
  },
  {
   "cell_type": "code",
   "execution_count": 23,
   "metadata": {},
   "outputs": [],
   "source": [
    "def register_model(path, model_name):\n",
    "    model = load_model(path)\n",
    "\n",
    "    print(\"Model information: \",model)\n",
    "    mlflow.set_tracking_uri(\"http://127.0.0.1:5000/\")\n",
    "\n",
    "    model_params = {\n",
    "        \"num_layers\": len(model.layers),\n",
    "        \"loss_function\": str(model.loss),\n",
    "        \"metrics\": [str(metric) for metric in model.metrics],\n",
    "        \"optimizer_config\": model.optimizer.get_config(),\n",
    "        \"input_shape\": str(model.input_shape),\n",
    "        \"output_shape\": str(model.output_shape),\n",
    "        \"layer_configs\": [layer.get_config() for layer in model.layers],\n",
    "        \"layer_weights\": [layer.get_weights() for layer in model.layers]\n",
    "    }\n",
    "\n",
    "    # Registrar el modelo desde el archivo o directorio\n",
    "    with mlflow.start_run() as run:\n",
    "        # Guardar el modelo en MLflow como un artifact\n",
    "        modelo_uri = mlflow.keras.log_model(model, artifact_path=\"modelo_keras\")\n",
    "        \n",
    "        # Obtener la URI del modelo registrado\n",
    "        modelo_uri = f\"runs:/{mlflow.active_run().info.run_id}/modelo_keras\"\n",
    "\n",
    "        # Log params\n",
    "\n",
    "        mlflow.log_param(\"num_layers\", model_params[\"num_layers\"])\n",
    "        mlflow.log_param(\"loss_function\", model_params[\"loss_function\"])\n",
    "        mlflow.log_param(\"metrics\", model_params[\"metrics\"])\n",
    "        mlflow.log_param(\"optimizer_config\", model_params[\"optimizer_config\"])\n",
    "        mlflow.log_param(\"input_shape\", model_params[\"input_shape\"])\n",
    "        mlflow.log_param(\"num_layers\", model_params[\"num_layers\"])\n",
    "\n",
    "        with open(\"model_layer_configs.txt\", \"w\") as f:\n",
    "            f.write(str(model_params[\"layer_configs\"]))\n",
    "        mlflow.log_artifact(\"model_layer_configs.txt\")\n",
    "\n",
    "        with open(\"model_layer_weights.txt\", \"w\") as f:\n",
    "            f.write(str(model_params[\"layer_weights\"]))\n",
    "        mlflow.log_artifact(\"model_layer_weights.txt\")\n",
    "\n",
    "    # Usar el cliente para registrar el modelo\n",
    "    client = MlflowClient()\n",
    "\n",
    "    try:\n",
    "        registered_model = client.get_registered_model(model_name)\n",
    "        print(f\"El modelo '{model_name}' ya está registrado. Creando una nueva versión.\")\n",
    "    except Exception as e:\n",
    "        print(f\"El modelo '{model_name}' no está registrado. Registrándolo por primera vez.\")\n",
    "        client.create_registered_model(model_name)\n",
    "\n",
    "    # Crear una nueva versión del modelo en el registro\n",
    "    model_version = client.create_model_version(\n",
    "        name=model_name,\n",
    "        source=modelo_uri,\n",
    "        run_id=run.info.run_id\n",
    "    )\n",
    "\n",
    "    print(f\"Modelo '{model_name}' registrado con éxito. Versión: {model_version.version}\")\n"
   ]
  },
  {
   "cell_type": "code",
   "execution_count": 24,
   "metadata": {},
   "outputs": [
    {
     "name": "stdout",
     "output_type": "stream",
     "text": [
      "Model information:  <Functional name=functional, built=True>\n"
     ]
    },
    {
     "name": "stderr",
     "output_type": "stream",
     "text": [
      "2024/12/19 17:29:28 WARNING mlflow.keras.save: You are saving a Keras model without specifying model signature.\n",
      "2024/12/19 17:29:41 WARNING mlflow.models.model: Model logged without a signature and input example. Please set `input_example` parameter when logging the model to auto infer the model signature.\n",
      "2024/12/19 17:29:42 INFO mlflow.store.model_registry.abstract_store: Waiting up to 300 seconds for model version to finish creation. Model name: Efficient Net, version 1\n"
     ]
    },
    {
     "name": "stdout",
     "output_type": "stream",
     "text": [
      "🏃 View run bald-skink-856 at: http://127.0.0.1:5000/#/experiments/0/runs/4d2484295f3e48bab7642fb3f67d2b6c\n",
      "🧪 View experiment at: http://127.0.0.1:5000/#/experiments/0\n",
      "El modelo 'Efficient Net' no está registrado. Registrándolo por primera vez.\n",
      "Modelo 'Efficient Net' registrado con éxito. Versión: 1\n"
     ]
    }
   ],
   "source": [
    "register_model(modelEFNet1, \"Efficient Net\")"
   ]
  },
  {
   "cell_type": "code",
   "execution_count": 25,
   "metadata": {},
   "outputs": [
    {
     "name": "stdout",
     "output_type": "stream",
     "text": [
      "Model information:  <Functional name=functional, built=True>\n"
     ]
    },
    {
     "name": "stderr",
     "output_type": "stream",
     "text": [
      "2024/12/19 17:29:47 WARNING mlflow.keras.save: You are saving a Keras model without specifying model signature.\n",
      "2024/12/19 17:30:00 WARNING mlflow.models.model: Model logged without a signature and input example. Please set `input_example` parameter when logging the model to auto infer the model signature.\n",
      "2024/12/19 17:30:01 INFO mlflow.store.model_registry.abstract_store: Waiting up to 300 seconds for model version to finish creation. Model name: Efficient Net, version 2\n"
     ]
    },
    {
     "name": "stdout",
     "output_type": "stream",
     "text": [
      "🏃 View run luminous-mare-291 at: http://127.0.0.1:5000/#/experiments/0/runs/9d866b9978a243149281731f8e9fbacc\n",
      "🧪 View experiment at: http://127.0.0.1:5000/#/experiments/0\n",
      "El modelo 'Efficient Net' ya está registrado. Creando una nueva versión.\n",
      "Modelo 'Efficient Net' registrado con éxito. Versión: 2\n"
     ]
    }
   ],
   "source": [
    "register_model(modelEFNet2, \"Efficient Net\")"
   ]
  },
  {
   "cell_type": "code",
   "execution_count": 26,
   "metadata": {},
   "outputs": [
    {
     "name": "stderr",
     "output_type": "stream",
     "text": [
      "2024/12/19 17:30:04 WARNING mlflow.keras.save: You are saving a Keras model without specifying model signature.\n"
     ]
    },
    {
     "name": "stdout",
     "output_type": "stream",
     "text": [
      "Model information:  <Functional name=functional, built=True>\n"
     ]
    },
    {
     "name": "stderr",
     "output_type": "stream",
     "text": [
      "2024/12/19 17:30:16 WARNING mlflow.models.model: Model logged without a signature and input example. Please set `input_example` parameter when logging the model to auto infer the model signature.\n",
      "2024/12/19 17:30:16 INFO mlflow.store.model_registry.abstract_store: Waiting up to 300 seconds for model version to finish creation. Model name: VGG 16, version 1\n"
     ]
    },
    {
     "name": "stdout",
     "output_type": "stream",
     "text": [
      "🏃 View run skittish-penguin-250 at: http://127.0.0.1:5000/#/experiments/0/runs/815a3b9dc7d846f7adece54bd7b953a2\n",
      "🧪 View experiment at: http://127.0.0.1:5000/#/experiments/0\n",
      "El modelo 'VGG 16' no está registrado. Registrándolo por primera vez.\n",
      "Modelo 'VGG 16' registrado con éxito. Versión: 1\n"
     ]
    }
   ],
   "source": [
    "register_model(modelVGG161, \"VGG 16\")"
   ]
  },
  {
   "cell_type": "code",
   "execution_count": 27,
   "metadata": {},
   "outputs": [
    {
     "name": "stderr",
     "output_type": "stream",
     "text": [
      "2024/12/19 17:30:20 WARNING mlflow.keras.save: You are saving a Keras model without specifying model signature.\n"
     ]
    },
    {
     "name": "stdout",
     "output_type": "stream",
     "text": [
      "Model information:  <Functional name=functional, built=True>\n"
     ]
    },
    {
     "name": "stderr",
     "output_type": "stream",
     "text": [
      "2024/12/19 17:30:30 WARNING mlflow.models.model: Model logged without a signature and input example. Please set `input_example` parameter when logging the model to auto infer the model signature.\n",
      "2024/12/19 17:30:30 INFO mlflow.store.model_registry.abstract_store: Waiting up to 300 seconds for model version to finish creation. Model name: VGG 16, version 2\n"
     ]
    },
    {
     "name": "stdout",
     "output_type": "stream",
     "text": [
      "🏃 View run luminous-seal-129 at: http://127.0.0.1:5000/#/experiments/0/runs/474f01bdf15b43d7ab0376cc967d30ab\n",
      "🧪 View experiment at: http://127.0.0.1:5000/#/experiments/0\n",
      "El modelo 'VGG 16' ya está registrado. Creando una nueva versión.\n",
      "Modelo 'VGG 16' registrado con éxito. Versión: 2\n"
     ]
    }
   ],
   "source": [
    "register_model(modelVGG162, \"VGG 16\")"
   ]
  },
  {
   "cell_type": "code",
   "execution_count": 28,
   "metadata": {},
   "outputs": [
    {
     "name": "stderr",
     "output_type": "stream",
     "text": [
      "2024/12/19 17:30:33 WARNING mlflow.keras.save: You are saving a Keras model without specifying model signature.\n"
     ]
    },
    {
     "name": "stdout",
     "output_type": "stream",
     "text": [
      "Model information:  <Functional name=functional, built=True>\n"
     ]
    },
    {
     "name": "stderr",
     "output_type": "stream",
     "text": [
      "2024/12/19 17:30:43 WARNING mlflow.models.model: Model logged without a signature and input example. Please set `input_example` parameter when logging the model to auto infer the model signature.\n",
      "2024/12/19 17:30:43 INFO mlflow.store.model_registry.abstract_store: Waiting up to 300 seconds for model version to finish creation. Model name: Final model, version 1\n"
     ]
    },
    {
     "name": "stdout",
     "output_type": "stream",
     "text": [
      "🏃 View run silent-calf-208 at: http://127.0.0.1:5000/#/experiments/0/runs/23a33fd1c54b4a8ab2044b8eea26666a\n",
      "🧪 View experiment at: http://127.0.0.1:5000/#/experiments/0\n",
      "El modelo 'Final model' no está registrado. Registrándolo por primera vez.\n",
      "Modelo 'Final model' registrado con éxito. Versión: 1\n"
     ]
    }
   ],
   "source": [
    "register_model(finalModel, \"Final model\")"
   ]
  }
 ],
 "metadata": {
  "kernelspec": {
   "display_name": "Python 3",
   "language": "python",
   "name": "python3"
  },
  "language_info": {
   "codemirror_mode": {
    "name": "ipython",
    "version": 3
   },
   "file_extension": ".py",
   "mimetype": "text/x-python",
   "name": "python",
   "nbconvert_exporter": "python",
   "pygments_lexer": "ipython3",
   "version": "3.11.9"
  }
 },
 "nbformat": 4,
 "nbformat_minor": 2
}
