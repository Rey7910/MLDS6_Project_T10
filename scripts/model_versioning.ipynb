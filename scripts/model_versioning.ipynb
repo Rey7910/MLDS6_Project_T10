{
 "cells": [
  {
   "cell_type": "markdown",
   "metadata": {},
   "source": [
    "# Versionamiento de modelos"
   ]
  },
  {
   "cell_type": "markdown",
   "metadata": {},
   "source": [
    "Los modelos probados y entrenados fueron diseñados y actualizados"
   ]
  },
  {
   "cell_type": "code",
   "execution_count": null,
   "metadata": {},
   "outputs": [],
   "source": [
    "modelEFNet1 = 'models/modelEfficientNet1.keras'\n",
    "modelEFNet2 = 'models/modelEfficientNet2.keras'\n",
    "modelVGG161 = 'models/modelVGG161.keras'\n",
    "modelVGG162 = 'models/modelVGG162.keras'\n",
    "finalModel = 'models/finalModel.keras'"
   ]
  }
 ],
 "metadata": {
  "language_info": {
   "name": "python"
  }
 },
 "nbformat": 4,
 "nbformat_minor": 2
}
